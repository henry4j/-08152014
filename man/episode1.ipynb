{
 "metadata": {
  "name": "",
  "signature": "sha256:d30c680b148834f7665323b9682be9bacb8f2de8cacb25a4351db1962744fd52"
 },
 "nbformat": 3,
 "nbformat_minor": 0,
 "worksheets": [
  {
   "cells": [
    {
     "cell_type": "markdown",
     "metadata": {},
     "source": [
      "[ [dojo](http://github.com/overlakehome/-/wiki/dojo) | [pythonista](https://github.com/overlakehome/-/wiki/pythonista) | [this notebook in viewer](http://nbviewer.ipython.org/github/henry4j/-/blob/master/man/episode1.ipynb) ]"
     ]
    },
    {
     "cell_type": "markdown",
     "metadata": {},
     "source": [
      "##### 1. Arrays and Strings"
     ]
    },
    {
     "cell_type": "markdown",
     "metadata": {},
     "source": [
      "1.1 Write a program to determine if a string has all unique characters. What if you cannot use additional data structures? [py](http://goo.gl/7WEWqp)"
     ]
    },
    {
     "cell_type": "code",
     "collapsed": false,
     "input": [
      "from functools import reduce\n",
      "\n",
      "def uniq(s):\n",
      "    h = reduce(lambda h, e: h.update({e:1+h.get(e, 0)}) or h, s, {})\n",
      "    return all(v == 1 for v in h.values())\n",
      "\n",
      "assert uniq('abc')\n",
      "assert not uniq('abcba')\n",
      "\n",
      "def uniq2(s):\n",
      "    for i, e in enumerate(s):\n",
      "        for j in range(i+1, len(s)):\n",
      "            if s[i] == s[j]:\n",
      "                 return False\n",
      "    return True\n",
      "\n",
      "assert uniq2('abc')\n",
      "assert not uniq2('abcba')"
     ],
     "language": "python",
     "metadata": {},
     "outputs": [],
     "prompt_number": 1
    },
    {
     "cell_type": "markdown",
     "metadata": {},
     "source": [
      "1.2 Write a function, void reverse(char* str), which reverses a null-terminated string."
     ]
    },
    {
     "cell_type": "code",
     "collapsed": false,
     "input": [
      "from functools import reduce\n",
      "from operator import * # http://docs.python.org/3/library/operator.html\n",
      "\n",
      "def str_reverse(s):\n",
      "    l = list(s)\n",
      "    for i in range(len(l)//2):\n",
      "        l[i], l[-1-i] = l[-1-i], l[i]\n",
      "    return ''.join(l)\n",
      "\n",
      "assert 'tub' == str_reverse('but'))\n",
      "assert 'tub' == 'but'[::-1]\n",
      "assert 'tub' == ''.join(reversed('but'))\n",
      "assert 'tub' == reduce(lambda s, e: iadd(s, e), reversed('but'), '')"
     ],
     "language": "python",
     "metadata": {},
     "outputs": [
      {
       "ename": "SyntaxError",
       "evalue": "invalid syntax (<ipython-input-2-651f27829d2f>, line 10)",
       "output_type": "pyerr",
       "traceback": [
        "\u001b[0;36m  File \u001b[0;32m\"<ipython-input-2-651f27829d2f>\"\u001b[0;36m, line \u001b[0;32m10\u001b[0m\n\u001b[0;31m    assert 'tub' == str_reverse('but'))\u001b[0m\n\u001b[0m                                      ^\u001b[0m\n\u001b[0;31mSyntaxError\u001b[0m\u001b[0;31m:\u001b[0m invalid syntax\n"
       ]
      }
     ],
     "prompt_number": 2
    },
    {
     "cell_type": "markdown",
     "metadata": {},
     "source": [
      "1.3 Write a program to determine if a string is a permutation of the other."
     ]
    },
    {
     "cell_type": "code",
     "collapsed": false,
     "input": [
      "from functools import reduce\n",
      "from operator import * # http://docs.python.org/3/library/operator.html\n",
      "\n",
      "def occurrences(s):\n",
      "    return reduce(lambda h, e: setitem(h, e, 1+h.get(e, 0)) or h, s, {})\n",
      "\n",
      "def anagram(s1, s2):\n",
      "    d1 = occurrences(s1)\n",
      "    for c in s2:\n",
      "        if d1.get(c, 0):\n",
      "            d1[c] -= 1\n",
      "        else:\n",
      "            return False\n",
      "    return all(v == 0 for v in d1.values())\n",
      "\n",
      "assert anagram('', '')\n",
      "assert not anagram('a', '')\n",
      "assert not anagram('', 'a')\n",
      "assert anagram('a', 'a')\n",
      "assert not anagram('a', 'b')\n",
      "assert not anagram('aa', 'ab')\n",
      "assert anagram('ab', 'ba')\n",
      "assert anagram('aab', 'aba')\n",
      "assert anagram('aabb', 'abab')\n",
      "\n",
      "to_anagram = lambda s: ''.join(sorted(s))\n",
      "def anagram2(s1, s2):\n",
      "    return len(s1) == len(s2) and to_anagram(s1) == to_anagram(s2)\n",
      "\n",
      "assert not anagram2('a', 'b')\n",
      "assert not anagram2('aa', 'ab')\n",
      "assert anagram2('ab', 'ba')\n",
      "assert anagram2('aab', 'aba')\n",
      "assert anagram2('aabb', 'abab')"
     ],
     "language": "python",
     "metadata": {},
     "outputs": [],
     "prompt_number": 3
    },
    {
     "cell_type": "markdown",
     "metadata": {},
     "source": [
      "1.4 Write a method to replace all spaces in a string with %20."
     ]
    },
    {
     "cell_type": "code",
     "collapsed": false,
     "input": [
      "from operator import * # http://docs.python.org/3/library/operator.html\n",
      "from itertools import * # http://docs.python.org/3/library/itertools.html\n",
      "\n",
      "def resize(list, new_size, fill_value=None):\n",
      "    del list[new_size:]\n",
      "    return list.extend(repeat(fill_value, new_size - len(list))) or list\n",
      "\n",
      "def escape_spaces(s):\n",
      "    n = len(s)\n",
      "    c = sum(1 for c in s if c == ' ') # same as: s.count(' ')\n",
      "    j = n + 2 * c\n",
      "    l = resize(list(s), j, '_')\n",
      "    for i in reversed(range(n)):\n",
      "        if l[i] == ' ':\n",
      "            l[j-3:j] = ('%', '2', '0')\n",
      "            j -= 3\n",
      "        else:\n",
      "            l[j-1] = l[i]\n",
      "            j -= 1\n",
      "    return ''.join(l)\n",
      "\n",
      "assert \"a%20b%20c%20\" == escape_spaces('a b c ')"
     ],
     "language": "python",
     "metadata": {},
     "outputs": [],
     "prompt_number": 4
    },
    {
     "cell_type": "markdown",
     "metadata": {},
     "source": [
      "1.5 Write a method to compress a string using counts of repeated chars, e.g., aabcccccaaa becomes a2b1c5a3."
     ]
    },
    {
     "cell_type": "code",
     "collapsed": false,
     "input": [
      "def compressed(s):\n",
      "    # import ipdb; ipdb.set_trace() # https://docs.python.org/3/library/pdb.html\n",
      "    r, tail, head = [], 0, 0\n",
      "    if len(s) > 0:\n",
      "        for head in range(1, len(s)):\n",
      "            if s[tail] != s[head]:\n",
      "                r.append(\"{0}{1}\".format(s[head-1], head-tail))\n",
      "                tail = head\n",
      "        r.append(\"{0}{1}\".format(s[-1], head-tail+1))\n",
      "    return ''.join(r) # if len(r) < len(s) else s\n",
      "\n",
      "assert 'a2b1c5a3' == compressed('aabcccccaaa')\n",
      "assert 'a1b1c2' == compressed('abcc')\n",
      "assert 'a1b1c1' == compressed('abc')\n",
      "assert 'a1' == compressed('a')\n",
      "assert '' == compressed('')"
     ],
     "language": "python",
     "metadata": {},
     "outputs": [],
     "prompt_number": 5
    },
    {
     "cell_type": "markdown",
     "metadata": {},
     "source": [
      "1.7 Given an NxN matrix, write a program to set entire row and column to 0 if an element has a value of 0."
     ]
    },
    {
     "cell_type": "code",
     "collapsed": false,
     "input": [
      "g = [\n",
      "    [ 1, 2, 3, 4 ],\n",
      "    [ 5, 6, 7, 8 ],\n",
      "    [ 9, 0, 1, 2 ],\n",
      "    [ 3, 4, 5, 6 ]\n",
      "]\n",
      "\n",
      "def zero_out(g):\n",
      "    rows, columns = {}, {}\n",
      "    for r in range(len(g)):\n",
      "        for c in range(len(g[r])):\n",
      "            if g[r][c] == 0:\n",
      "                columns[c] = rows[r] = True\n",
      "    for r in range(len(g)):\n",
      "        for c in range(len(g[r])):\n",
      "            if c in columns.keys() or r in rows.keys():\n",
      "                g[r][c] = 0\n",
      "    return g\n",
      "\n",
      "assert [\n",
      "    [1, 0, 3, 4],\n",
      "    [5, 0, 7, 8],\n",
      "    [0, 0, 0, 0],\n",
      "    [3, 0, 5, 6]\n",
      "] == zero_out(g)"
     ],
     "language": "python",
     "metadata": {},
     "outputs": [],
     "prompt_number": 6
    },
    {
     "cell_type": "markdown",
     "metadata": {},
     "source": [
      "1.8 Given two strings, write a program to determine if a string is a rotation of the other using isSubstring method."
     ]
    },
    {
     "cell_type": "code",
     "collapsed": false,
     "input": [
      "is_rotated = lambda s, t: len(s) == len(t) and -1 != (s+s).find(t)\n",
      "assert is_rotated(\"xyz\", \"yzx\")\n",
      "assert is_rotated(\"xyz\", \"zxy\")\n",
      "assert is_rotated(\"x\", \"x\")\n",
      "assert is_rotated(\"xy\", \"yx\")\n",
      "assert not is_rotated(\"xyz\", \"xyx\")"
     ],
     "language": "python",
     "metadata": {},
     "outputs": [],
     "prompt_number": 7
    }
   ],
   "metadata": {}
  }
 ]
}