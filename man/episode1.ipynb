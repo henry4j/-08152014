{
 "metadata": {
  "name": "",
  "signature": "sha256:a98a2a4ca85afc67ba64bcd77bf17a7d85f21357ae06f2b65be5b41bcbc25d99"
 },
 "nbformat": 3,
 "nbformat_minor": 0,
 "worksheets": [
  {
   "cells": [
    {
     "cell_type": "markdown",
     "metadata": {},
     "source": [
      "[ [dojo](http://github.com/overlakehome/-/wiki/dojo) | [pythonista](https://github.com/overlakehome/-/wiki/pythonista) | [this notebook in viewer](http://nbviewer.ipython.org/github/henry4j/-/blob/master/man/pythonista01.ipynb) ]"
     ]
    },
    {
     "cell_type": "markdown",
     "metadata": {},
     "source": [
      "##### 1. Arrays and Strings"
     ]
    },
    {
     "cell_type": "markdown",
     "metadata": {},
     "source": [
      "1.1 Write a program to determine if a string has all unique characters. What if you cannot use additional data structures? [py](http://goo.gl/7WEWqp)"
     ]
    },
    {
     "cell_type": "code",
     "collapsed": false,
     "input": [
      "from functools import reduce\n",
      "\n",
      "def uniq(s):\n",
      "  h = reduce(lambda h, e: h.update({e:1+h.get(e, 0)}) or h, s, {})\n",
      "  return all(v == 1 for v in h.values())\n",
      "\n",
      "assert uniq('abc')\n",
      "assert not uniq('abcba')\n",
      "\n",
      "def uniq2(s):\n",
      "  for i, e in enumerate(s):\n",
      "    for j in range(i+1, len(s)):\n",
      "      if s[i] == s[j]:\n",
      "         return False\n",
      "  return True\n",
      "\n",
      "assert uniq2('abc')\n",
      "assert not uniq2('abcba')"
     ],
     "language": "python",
     "metadata": {},
     "outputs": [],
     "prompt_number": 1
    },
    {
     "cell_type": "markdown",
     "metadata": {},
     "source": [
      "1.2 Write a function, void reverse(char* str), which reverses a null-terminated string."
     ]
    },
    {
     "cell_type": "code",
     "collapsed": false,
     "input": [
      "from functools import reduce\n",
      "from operator import * # http://docs.python.org/3/library/operator.html\n",
      "\n",
      "def str_reverse(s):\n",
      "  l = list(s)\n",
      "  for i in range(len(l)//2):\n",
      "    l[i], l[-1-i] = l[-1-i], l[i]\n",
      "  return ''.join(l)\n",
      "\n",
      "assert eq('tub', str_reverse('but'))\n",
      "assert 'tub' == 'but'[::-1]\n",
      "assert 'tub' == ''.join(reversed('but'))\n",
      "assert 'tub' == reduce(lambda s, e: iadd(s, e), reversed('but'), '')"
     ],
     "language": "python",
     "metadata": {},
     "outputs": [],
     "prompt_number": 5
    },
    {
     "cell_type": "markdown",
     "metadata": {},
     "source": [
      "1.3 Write a program to determine if a string is a permutation of the other."
     ]
    },
    {
     "cell_type": "code",
     "collapsed": false,
     "input": [
      "from functools import reduce\n",
      "from operator import * # http://docs.python.org/3/library/operator.html\n",
      "\n",
      "def occurrences(s):\n",
      "  return reduce(lambda h, e: setitem(h, e, 1+h.get(e, 0)) or h, s, {})\n",
      "\n",
      "def anagram(s1, s2):\n",
      "  d1 = occurrences(s1)\n",
      "  for c in s2:\n",
      "    if d1.get(c, 0):\n",
      "      d1[c] -= 1\n",
      "    else:\n",
      "      return False\n",
      "  return all(v == 0 for v in d1.values())\n",
      "\n",
      "assert anagram('', '')\n",
      "assert not anagram('a', '')\n",
      "assert not anagram('', 'a')\n",
      "assert anagram('a', 'a')\n",
      "assert not anagram('a', 'b')\n",
      "assert not anagram('aa', 'ab')\n",
      "assert anagram('ab', 'ba')\n",
      "assert anagram('aab', 'aba')\n",
      "assert anagram('aabb', 'abab')\n",
      "\n",
      "to_anagram = lambda s: ''.join(sorted(s))\n",
      "def anagram2(s1, s2):\n",
      "  return len(s1) == len(s2) and to_anagram(s1) == to_anagram(s2)\n",
      "\n",
      "assert not anagram2('a', 'b')\n",
      "assert not anagram2('aa', 'ab')\n",
      "assert anagram2('ab', 'ba')\n",
      "assert anagram2('aab', 'aba')\n",
      "assert anagram2('aabb', 'abab')"
     ],
     "language": "python",
     "metadata": {},
     "outputs": [],
     "prompt_number": 3
    },
    {
     "cell_type": "markdown",
     "metadata": {},
     "source": [
      "1.4 Write a method to replace all spaces in a string with %20."
     ]
    },
    {
     "cell_type": "code",
     "collapsed": false,
     "input": [
      "from operator import * # http://docs.python.org/3/library/operator.html\n",
      "\n",
      "s = 'a b c '\n",
      "l = list(s)\n",
      "def resize(list, size, filling=None):\n",
      "  if size > len(list)\n",
      "    list.extend(filling for x in range(size - len(list))\n",
      "\n",
      "n = l.count(' ')\n",
      "m = n + sum(1 for c in s if c == ' ')\n",
      "for i in reversed(range(len(l)))\n",
      "  if l[i] == ' '\n",
      "    l[m] == "
     ],
     "language": "python",
     "metadata": {},
     "outputs": [
      {
       "ename": "SyntaxError",
       "evalue": "invalid syntax (<ipython-input-19-68e121dd80fc>, line 6)",
       "output_type": "pyerr",
       "traceback": [
        "\u001b[0;36m  File \u001b[0;32m\"<ipython-input-19-68e121dd80fc>\"\u001b[0;36m, line \u001b[0;32m6\u001b[0m\n\u001b[0;31m    while n -= 1 > 1\u001b[0m\n\u001b[0m             ^\u001b[0m\n\u001b[0;31mSyntaxError\u001b[0m\u001b[0;31m:\u001b[0m invalid syntax\n"
       ]
      }
     ],
     "prompt_number": 19
    }
   ],
   "metadata": {}
  }
 ]
}