{
 "metadata": {
  "name": "",
  "signature": "sha256:25e34f8a472724928f4e0176823b719b42cfd26a953ec4429323c9b3b3905913"
 },
 "nbformat": 3,
 "nbformat_minor": 0,
 "worksheets": [
  {
   "cells": [
    {
     "cell_type": "markdown",
     "metadata": {},
     "source": [
      "[ [dojo](http://github.com/overlakehome/-/wiki/dojo) | [pythonista](https://github.com/overlakehome/-/wiki/pythonista) | [this notebook in viewer](http://nbviewer.ipython.org/github/henry4j/-/blob/master/man/pythonista01.ipynb) ]"
     ]
    },
    {
     "cell_type": "markdown",
     "metadata": {},
     "source": [
      "##### 1. Arrays and Strings"
     ]
    },
    {
     "cell_type": "markdown",
     "metadata": {},
     "source": [
      "1.1 Write a program to determine if a string has all unique characters. What if you cannot use additional data structures? [py](http://goo.gl/7WEWqp)"
     ]
    },
    {
     "cell_type": "code",
     "collapsed": false,
     "input": [
      "from functools import reduce\n",
      "\n",
      "def uniq(s):\n",
      "  h = reduce(lambda h, e: h.update({e:1+h.get(e, 0)}) or h, s, {})\n",
      "  return all(v == 1 for v in h.values())\n",
      "\n",
      "assert uniq('abc')\n",
      "assert not uniq('abcba')\n",
      "\n",
      "def uniq2(s):\n",
      "  for i, e in enumerate(s):\n",
      "    for j in range(i+1, len(s)):\n",
      "      if s[i] == s[j]:\n",
      "         return False\n",
      "  return True\n",
      "\n",
      "assert uniq2('abc')\n",
      "assert not uniq2('abcba')"
     ],
     "language": "python",
     "metadata": {},
     "outputs": [],
     "prompt_number": 1
    },
    {
     "cell_type": "markdown",
     "metadata": {},
     "source": [
      "1.2 Write a function, void reverse(char* str), which reverses a null-terminated string."
     ]
    },
    {
     "cell_type": "code",
     "collapsed": false,
     "input": [
      "from operator import * # http://docs.python.org/3/library/operator.html\n",
      "from functools import reduce\n",
      "\n",
      "def str_reverse(s):\n",
      "  l = list(s)\n",
      "  for i in range(len(l)//2):\n",
      "    l[i], l[-1-i] = l[-1-i], l[i]\n",
      "  return ''.join(l)\n",
      "\n",
      "assert eq('tub', str_reverse('but'))\n",
      "assert 'tub' == 'but'[::-1]\n",
      "assert 'tub' == ''.join(reversed('but'))\n",
      "assert 'tub' == ''.join(reduce(lambda a, e: a.insert(0, e) or a, 'but', []))"
     ],
     "language": "python",
     "metadata": {},
     "outputs": [],
     "prompt_number": 2
    },
    {
     "cell_type": "markdown",
     "metadata": {},
     "source": [
      "1.3 Write a program to determine if a string is a permutation of the other."
     ]
    },
    {
     "cell_type": "code",
     "collapsed": false,
     "input": [
      "from functools import reduce\n",
      "from operator import * # http://docs.python.org/3/library/operator.html\n",
      "\n",
      "def occurrences(s):\n",
      "  return reduce(lambda h, e: setitem(h, e, 1+h.get(e, 0)) or h, s, {})\n",
      "\n",
      "def anagram(s1, s2):\n",
      "  d1 = occurrences(s1)\n",
      "  for c in s2:\n",
      "    if d1.get(c, 0):\n",
      "      d1[c] -= 1\n",
      "    else:\n",
      "      return False\n",
      "  return all(v == 0 for v in d1.values())\n",
      "\n",
      "assert anagram('', '')\n",
      "assert not anagram('a', '')\n",
      "assert not anagram('', 'a')\n",
      "assert anagram('a', 'a')\n",
      "assert not anagram('a', 'b')\n",
      "assert not anagram('aa', 'ab')\n",
      "assert anagram('ab', 'ba')\n",
      "assert anagram('aab', 'aba')\n",
      "assert anagram('aabb', 'abab')\n",
      "\n",
      "to_anagram = lambda s: ''.join(sorted(s))\n",
      "def anagram2(s1, s2):\n",
      "  return len(s1) == len(s2) and to_anagram(s1) == to_anagram(s2)\n",
      "\n",
      "assert not anagram2('a', 'b')\n",
      "assert not anagram2('aa', 'ab')\n",
      "assert anagram2('ab', 'ba')\n",
      "assert anagram2('aab', 'aba')\n",
      "assert anagram2('aabb', 'abab')"
     ],
     "language": "python",
     "metadata": {},
     "outputs": [],
     "prompt_number": 3
    },
    {
     "cell_type": "code",
     "collapsed": false,
     "input": [],
     "language": "python",
     "metadata": {},
     "outputs": [],
     "prompt_number": 3
    }
   ],
   "metadata": {}
  }
 ]
}